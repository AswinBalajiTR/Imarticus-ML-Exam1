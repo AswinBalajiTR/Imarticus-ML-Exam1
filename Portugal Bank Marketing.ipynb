{
 "cells": [
  {
   "cell_type": "markdown",
   "id": "055444ec",
   "metadata": {},
   "source": [
    "# Portugal Bank Marketing\n",
    "___\n",
    "### Dataset Description :\n",
    "To predict whether the client has subscribed a term deposit"
   ]
  },
  {
   "cell_type": "code",
   "execution_count": 29,
   "id": "4a06151a",
   "metadata": {},
   "outputs": [],
   "source": [
    "#Importing necessary libraries\n",
    "import numpy as np\n",
    "import pandas as pd\n",
    "import seaborn as sns\n",
    "%matplotlib inline\n",
    "from matplotlib import pyplot as plt\n",
    "from sklearn.linear_model import LogisticRegression\n",
    "from sklearn.model_selection import train_test_split\n",
    "from sklearn import metrics\n",
    "from sklearn.metrics import accuracy_score\n",
    "from sklearn.preprocessing import LabelEncoder,OrdinalEncoder\n",
    "import warnings\n",
    "warnings.filterwarnings(\"ignore\")"
   ]
  },
  {
   "cell_type": "code",
   "execution_count": 2,
   "id": "4edb9d07",
   "metadata": {},
   "outputs": [
    {
     "data": {
      "text/html": [
       "<div>\n",
       "<style scoped>\n",
       "    .dataframe tbody tr th:only-of-type {\n",
       "        vertical-align: middle;\n",
       "    }\n",
       "\n",
       "    .dataframe tbody tr th {\n",
       "        vertical-align: top;\n",
       "    }\n",
       "\n",
       "    .dataframe thead th {\n",
       "        text-align: right;\n",
       "    }\n",
       "</style>\n",
       "<table border=\"1\" class=\"dataframe\">\n",
       "  <thead>\n",
       "    <tr style=\"text-align: right;\">\n",
       "      <th></th>\n",
       "      <th>age</th>\n",
       "      <th>job</th>\n",
       "      <th>marital</th>\n",
       "      <th>education</th>\n",
       "      <th>default</th>\n",
       "      <th>housing</th>\n",
       "      <th>loan</th>\n",
       "      <th>contact</th>\n",
       "      <th>month</th>\n",
       "      <th>day_of_week</th>\n",
       "      <th>...</th>\n",
       "      <th>campaign</th>\n",
       "      <th>pdays</th>\n",
       "      <th>previous</th>\n",
       "      <th>poutcome</th>\n",
       "      <th>emp.var.rate</th>\n",
       "      <th>cons.price.idx</th>\n",
       "      <th>cons.conf.idx</th>\n",
       "      <th>euribor3m</th>\n",
       "      <th>nr.employed</th>\n",
       "      <th>y</th>\n",
       "    </tr>\n",
       "  </thead>\n",
       "  <tbody>\n",
       "    <tr>\n",
       "      <th>0</th>\n",
       "      <td>56</td>\n",
       "      <td>housemaid</td>\n",
       "      <td>married</td>\n",
       "      <td>basic.4y</td>\n",
       "      <td>no</td>\n",
       "      <td>no</td>\n",
       "      <td>no</td>\n",
       "      <td>telephone</td>\n",
       "      <td>may</td>\n",
       "      <td>mon</td>\n",
       "      <td>...</td>\n",
       "      <td>1</td>\n",
       "      <td>999</td>\n",
       "      <td>0</td>\n",
       "      <td>nonexistent</td>\n",
       "      <td>1.1</td>\n",
       "      <td>93.994</td>\n",
       "      <td>-36.4</td>\n",
       "      <td>4.857</td>\n",
       "      <td>5191.0</td>\n",
       "      <td>no</td>\n",
       "    </tr>\n",
       "    <tr>\n",
       "      <th>1</th>\n",
       "      <td>57</td>\n",
       "      <td>services</td>\n",
       "      <td>married</td>\n",
       "      <td>high.school</td>\n",
       "      <td>unknown</td>\n",
       "      <td>no</td>\n",
       "      <td>no</td>\n",
       "      <td>telephone</td>\n",
       "      <td>may</td>\n",
       "      <td>mon</td>\n",
       "      <td>...</td>\n",
       "      <td>1</td>\n",
       "      <td>999</td>\n",
       "      <td>0</td>\n",
       "      <td>nonexistent</td>\n",
       "      <td>1.1</td>\n",
       "      <td>93.994</td>\n",
       "      <td>-36.4</td>\n",
       "      <td>4.857</td>\n",
       "      <td>5191.0</td>\n",
       "      <td>no</td>\n",
       "    </tr>\n",
       "    <tr>\n",
       "      <th>2</th>\n",
       "      <td>37</td>\n",
       "      <td>services</td>\n",
       "      <td>married</td>\n",
       "      <td>high.school</td>\n",
       "      <td>no</td>\n",
       "      <td>yes</td>\n",
       "      <td>no</td>\n",
       "      <td>telephone</td>\n",
       "      <td>may</td>\n",
       "      <td>mon</td>\n",
       "      <td>...</td>\n",
       "      <td>1</td>\n",
       "      <td>999</td>\n",
       "      <td>0</td>\n",
       "      <td>nonexistent</td>\n",
       "      <td>1.1</td>\n",
       "      <td>93.994</td>\n",
       "      <td>-36.4</td>\n",
       "      <td>4.857</td>\n",
       "      <td>5191.0</td>\n",
       "      <td>no</td>\n",
       "    </tr>\n",
       "    <tr>\n",
       "      <th>3</th>\n",
       "      <td>40</td>\n",
       "      <td>admin.</td>\n",
       "      <td>married</td>\n",
       "      <td>basic.6y</td>\n",
       "      <td>no</td>\n",
       "      <td>no</td>\n",
       "      <td>no</td>\n",
       "      <td>telephone</td>\n",
       "      <td>may</td>\n",
       "      <td>mon</td>\n",
       "      <td>...</td>\n",
       "      <td>1</td>\n",
       "      <td>999</td>\n",
       "      <td>0</td>\n",
       "      <td>nonexistent</td>\n",
       "      <td>1.1</td>\n",
       "      <td>93.994</td>\n",
       "      <td>-36.4</td>\n",
       "      <td>4.857</td>\n",
       "      <td>5191.0</td>\n",
       "      <td>no</td>\n",
       "    </tr>\n",
       "    <tr>\n",
       "      <th>4</th>\n",
       "      <td>56</td>\n",
       "      <td>services</td>\n",
       "      <td>married</td>\n",
       "      <td>high.school</td>\n",
       "      <td>no</td>\n",
       "      <td>no</td>\n",
       "      <td>yes</td>\n",
       "      <td>telephone</td>\n",
       "      <td>may</td>\n",
       "      <td>mon</td>\n",
       "      <td>...</td>\n",
       "      <td>1</td>\n",
       "      <td>999</td>\n",
       "      <td>0</td>\n",
       "      <td>nonexistent</td>\n",
       "      <td>1.1</td>\n",
       "      <td>93.994</td>\n",
       "      <td>-36.4</td>\n",
       "      <td>4.857</td>\n",
       "      <td>5191.0</td>\n",
       "      <td>no</td>\n",
       "    </tr>\n",
       "  </tbody>\n",
       "</table>\n",
       "<p>5 rows × 21 columns</p>\n",
       "</div>"
      ],
      "text/plain": [
       "   age        job  marital    education  default housing loan    contact  \\\n",
       "0   56  housemaid  married     basic.4y       no      no   no  telephone   \n",
       "1   57   services  married  high.school  unknown      no   no  telephone   \n",
       "2   37   services  married  high.school       no     yes   no  telephone   \n",
       "3   40     admin.  married     basic.6y       no      no   no  telephone   \n",
       "4   56   services  married  high.school       no      no  yes  telephone   \n",
       "\n",
       "  month day_of_week  ...  campaign  pdays  previous     poutcome emp.var.rate  \\\n",
       "0   may         mon  ...         1    999         0  nonexistent          1.1   \n",
       "1   may         mon  ...         1    999         0  nonexistent          1.1   \n",
       "2   may         mon  ...         1    999         0  nonexistent          1.1   \n",
       "3   may         mon  ...         1    999         0  nonexistent          1.1   \n",
       "4   may         mon  ...         1    999         0  nonexistent          1.1   \n",
       "\n",
       "   cons.price.idx  cons.conf.idx  euribor3m  nr.employed   y  \n",
       "0          93.994          -36.4      4.857       5191.0  no  \n",
       "1          93.994          -36.4      4.857       5191.0  no  \n",
       "2          93.994          -36.4      4.857       5191.0  no  \n",
       "3          93.994          -36.4      4.857       5191.0  no  \n",
       "4          93.994          -36.4      4.857       5191.0  no  \n",
       "\n",
       "[5 rows x 21 columns]"
      ]
     },
     "execution_count": 2,
     "metadata": {},
     "output_type": "execute_result"
    }
   ],
   "source": [
    "#Reading and displaying the dataset\n",
    "df=pd.read_csv('E:/Paper1/bank.csv',sep=';')\n",
    "df.head()"
   ]
  },
  {
   "cell_type": "code",
   "execution_count": 3,
   "id": "181138a9",
   "metadata": {},
   "outputs": [
    {
     "data": {
      "text/plain": [
       "(41188, 21)"
      ]
     },
     "execution_count": 3,
     "metadata": {},
     "output_type": "execute_result"
    }
   ],
   "source": [
    "#Getting the shape of the dataset\n",
    "df.shape"
   ]
  },
  {
   "cell_type": "code",
   "execution_count": 4,
   "id": "6351ed61",
   "metadata": {},
   "outputs": [
    {
     "name": "stdout",
     "output_type": "stream",
     "text": [
      "<class 'pandas.core.frame.DataFrame'>\n",
      "RangeIndex: 41188 entries, 0 to 41187\n",
      "Data columns (total 21 columns):\n",
      " #   Column          Non-Null Count  Dtype  \n",
      "---  ------          --------------  -----  \n",
      " 0   age             41188 non-null  int64  \n",
      " 1   job             41188 non-null  object \n",
      " 2   marital         41188 non-null  object \n",
      " 3   education       41188 non-null  object \n",
      " 4   default         41188 non-null  object \n",
      " 5   housing         41188 non-null  object \n",
      " 6   loan            41188 non-null  object \n",
      " 7   contact         41188 non-null  object \n",
      " 8   month           41188 non-null  object \n",
      " 9   day_of_week     41188 non-null  object \n",
      " 10  duration        41188 non-null  int64  \n",
      " 11  campaign        41188 non-null  int64  \n",
      " 12  pdays           41188 non-null  int64  \n",
      " 13  previous        41188 non-null  int64  \n",
      " 14  poutcome        41188 non-null  object \n",
      " 15  emp.var.rate    41188 non-null  float64\n",
      " 16  cons.price.idx  41188 non-null  float64\n",
      " 17  cons.conf.idx   41188 non-null  float64\n",
      " 18  euribor3m       41188 non-null  float64\n",
      " 19  nr.employed     41188 non-null  float64\n",
      " 20  y               41188 non-null  object \n",
      "dtypes: float64(5), int64(5), object(11)\n",
      "memory usage: 6.6+ MB\n"
     ]
    }
   ],
   "source": [
    "#Details about each and every column \n",
    "df.info()"
   ]
  },
  {
   "cell_type": "markdown",
   "id": "9482c610",
   "metadata": {},
   "source": [
    "## Q1. Primary analysis of several categorical features"
   ]
  },
  {
   "cell_type": "code",
   "execution_count": 5,
   "id": "d02b2a27",
   "metadata": {},
   "outputs": [
    {
     "data": {
      "text/plain": [
       "['job',\n",
       " 'marital',\n",
       " 'education',\n",
       " 'default',\n",
       " 'housing',\n",
       " 'loan',\n",
       " 'contact',\n",
       " 'month',\n",
       " 'day_of_week',\n",
       " 'poutcome',\n",
       " 'y']"
      ]
     },
     "execution_count": 5,
     "metadata": {},
     "output_type": "execute_result"
    }
   ],
   "source": [
    "#Extracting the names of categorical column\n",
    "cat_col=df.select_dtypes(include=['object']).columns.tolist()\n",
    "cat_col"
   ]
  },
  {
   "cell_type": "code",
   "execution_count": 6,
   "id": "d719cbdb",
   "metadata": {},
   "outputs": [
    {
     "data": {
      "text/plain": [
       "<AxesSubplot:xlabel='y', ylabel='count'>"
      ]
     },
     "execution_count": 6,
     "metadata": {},
     "output_type": "execute_result"
    },
    {
     "data": {
      "image/png": "[encoded data removed]",
      "text/plain": [
       "<Figure size 432x288 with 1 Axes>"
      ]
     },
     "metadata": {
      "needs_background": "light"
     },
     "output_type": "display_data"
    }
   ],
   "source": [
    "#Checking whether the data is balanced or imbalanced\n",
    "sns.countplot(x=df.y)"
   ]
  },
  {
   "cell_type": "markdown",
   "id": "365c3348",
   "metadata": {},
   "source": [
    "From the above plot we can see clearly that the dataset is highly imbalanced as the classes are not evenly distributed"
   ]
  },
  {
   "cell_type": "code",
   "execution_count": 7,
   "id": "f72332bf",
   "metadata": {},
   "outputs": [
    {
     "data": {
      "text/plain": [
       "<AxesSubplot:title={'center':'Monthwise client count'}, xlabel='month'>"
      ]
     },
     "execution_count": 7,
     "metadata": {},
     "output_type": "execute_result"
    },
    {
     "data": {
      "image/png": "[encoded data removed]",
      "text/plain": [
       "<Figure size 864x288 with 1 Axes>"
      ]
     },
     "metadata": {
      "needs_background": "light"
     },
     "output_type": "display_data"
    }
   ],
   "source": [
    "pd.crosstab(df.month, df.y).plot.bar(figsize=(12,4),title='Monthwise client count',color=['grey','orange'])"
   ]
  },
  {
   "cell_type": "code",
   "execution_count": 8,
   "id": "03485e30",
   "metadata": {},
   "outputs": [
    {
     "data": {
      "text/plain": [
       "<AxesSubplot:title={'center':'Education of client'}, xlabel='education'>"
      ]
     },
     "execution_count": 8,
     "metadata": {},
     "output_type": "execute_result"
    },
    {
     "data": {
      "image/png": "[encoded data removed]",
      "text/plain": [
       "<Figure size 864x288 with 1 Axes>"
      ]
     },
     "metadata": {
      "needs_background": "light"
     },
     "output_type": "display_data"
    }
   ],
   "source": [
    "pd.crosstab(df.education, df.y).plot.bar(figsize=(12,4),title='Education of client',color=['grey','orange'])"
   ]
  },
  {
   "cell_type": "code",
   "execution_count": 9,
   "id": "eebede3c",
   "metadata": {},
   "outputs": [
    {
     "data": {
      "text/plain": [
       "<AxesSubplot:title={'center':'Marital status of the client'}, xlabel='marital'>"
      ]
     },
     "execution_count": 9,
     "metadata": {},
     "output_type": "execute_result"
    },
    {
     "data": {
      "image/png": "[encoded data removed]",
      "text/plain": [
       "<Figure size 864x288 with 1 Axes>"
      ]
     },
     "metadata": {
      "needs_background": "light"
     },
     "output_type": "display_data"
    }
   ],
   "source": [
    "pd.crosstab(df.marital, df.y).plot.bar(figsize=(12,4),title='Marital status of the client',color=['grey','orange'])"
   ]
  },
  {
   "cell_type": "markdown",
   "id": "85119320",
   "metadata": {},
   "source": [
    "## Q2. Exploratory Data Analysis tasks"
   ]
  },
  {
   "cell_type": "code",
   "execution_count": 10,
   "id": "de0212ec",
   "metadata": {},
   "outputs": [
    {
     "data": {
      "text/plain": [
       "<AxesSubplot:>"
      ]
     },
     "execution_count": 10,
     "metadata": {},
     "output_type": "execute_result"
    },
    {
     "data": {
      "image/png": "[encoded data removed]",
      "text/plain": [
       "<Figure size 864x576 with 2 Axes>"
      ]
     },
     "metadata": {
      "needs_background": "light"
     },
     "output_type": "display_data"
    }
   ],
   "source": [
    "#Checking correlation between variables\n",
    "plt.figure(figsize=(12,8))\n",
    "sns.heatmap(df.corr(),annot=True)"
   ]
  },
  {
   "cell_type": "markdown",
   "id": "f4551546",
   "metadata": {},
   "source": [
    "### a) Missing Value Analysis"
   ]
  },
  {
   "cell_type": "code",
   "execution_count": 11,
   "id": "0b35513a",
   "metadata": {},
   "outputs": [
    {
     "data": {
      "text/plain": [
       "age               0\n",
       "job               0\n",
       "marital           0\n",
       "education         0\n",
       "default           0\n",
       "housing           0\n",
       "loan              0\n",
       "contact           0\n",
       "month             0\n",
       "day_of_week       0\n",
       "duration          0\n",
       "campaign          0\n",
       "pdays             0\n",
       "previous          0\n",
       "poutcome          0\n",
       "emp.var.rate      0\n",
       "cons.price.idx    0\n",
       "cons.conf.idx     0\n",
       "euribor3m         0\n",
       "nr.employed       0\n",
       "y                 0\n",
       "dtype: int64"
      ]
     },
     "execution_count": 11,
     "metadata": {},
     "output_type": "execute_result"
    }
   ],
   "source": [
    "df.isnull().sum()"
   ]
  },
  {
   "cell_type": "markdown",
   "id": "df0fd97d",
   "metadata": {},
   "source": [
    "From the above result, we can conclude that there are no missing values in the dataset"
   ]
  },
  {
   "cell_type": "code",
   "execution_count": 12,
   "id": "798549a4",
   "metadata": {},
   "outputs": [
    {
     "data": {
      "text/plain": [
       "<AxesSubplot:>"
      ]
     },
     "execution_count": 12,
     "metadata": {},
     "output_type": "execute_result"
    },
    {
     "data": {
      "image/png": "[encoded data removed]",
      "text/plain": [
       "<Figure size 720x432 with 2 Axes>"
      ]
     },
     "metadata": {
      "needs_background": "light"
     },
     "output_type": "display_data"
    }
   ],
   "source": [
    "plt.figure(figsize=(10,6))\n",
    "sns.heatmap(df.isnull())"
   ]
  },
  {
   "cell_type": "markdown",
   "id": "751ad3ef",
   "metadata": {},
   "source": [
    "### b) Label Encoding"
   ]
  },
  {
   "cell_type": "code",
   "execution_count": 13,
   "id": "dc2b0ea3",
   "metadata": {},
   "outputs": [],
   "source": [
    "from sklearn import preprocessing\n",
    "label_encoder = preprocessing.LabelEncoder()\n",
    "for i in cat_col:\n",
    "    df[i]= label_encoder.fit_transform(df[i])"
   ]
  },
  {
   "cell_type": "code",
   "execution_count": 14,
   "id": "73735935",
   "metadata": {},
   "outputs": [
    {
     "data": {
      "text/plain": [
       "age                 int64\n",
       "job                 int32\n",
       "marital             int32\n",
       "education           int32\n",
       "default             int32\n",
       "housing             int32\n",
       "loan                int32\n",
       "contact             int32\n",
       "month               int32\n",
       "day_of_week         int32\n",
       "duration            int64\n",
       "campaign            int64\n",
       "pdays               int64\n",
       "previous            int64\n",
       "poutcome            int32\n",
       "emp.var.rate      float64\n",
       "cons.price.idx    float64\n",
       "cons.conf.idx     float64\n",
       "euribor3m         float64\n",
       "nr.employed       float64\n",
       "y                   int32\n",
       "dtype: object"
      ]
     },
     "execution_count": 14,
     "metadata": {},
     "output_type": "execute_result"
    }
   ],
   "source": [
    "df.dtypes"
   ]
  },
  {
   "cell_type": "markdown",
   "id": "fa38c75d",
   "metadata": {},
   "source": [
    "### c) Selecting important features based on Random Forest"
   ]
  },
  {
   "cell_type": "code",
   "execution_count": 15,
   "id": "4ed416de",
   "metadata": {},
   "outputs": [],
   "source": [
    "X=df.drop(\"y\",axis=1)\n",
    "y=df[\"y\"]"
   ]
  },
  {
   "cell_type": "code",
   "execution_count": 16,
   "id": "21b22440",
   "metadata": {},
   "outputs": [],
   "source": [
    "from sklearn.model_selection import train_test_split\n",
    "X_train, X_test, y_train, y_test = train_test_split(X, y, test_size = 0.3, random_state = 0)"
   ]
  },
  {
   "cell_type": "code",
   "execution_count": 17,
   "id": "726c0177",
   "metadata": {},
   "outputs": [
    {
     "name": "stderr",
     "output_type": "stream",
     "text": [
      "[Parallel(n_jobs=-4)]: Using backend ThreadingBackend with 5 concurrent workers.\n",
      "[Parallel(n_jobs=-4)]: Done  40 tasks      | elapsed:    0.2s\n",
      "[Parallel(n_jobs=-4)]: Done 190 tasks      | elapsed:    1.2s\n",
      "[Parallel(n_jobs=-4)]: Done 440 tasks      | elapsed:    3.5s\n",
      "[Parallel(n_jobs=-4)]: Done 500 out of 500 | elapsed:    4.1s finished\n",
      "[Parallel(n_jobs=5)]: Using backend ThreadingBackend with 5 concurrent workers.\n",
      "[Parallel(n_jobs=5)]: Done  40 tasks      | elapsed:    0.0s\n",
      "[Parallel(n_jobs=5)]: Done 190 tasks      | elapsed:    0.2s\n",
      "[Parallel(n_jobs=5)]: Done 440 tasks      | elapsed:    0.6s\n",
      "[Parallel(n_jobs=5)]: Done 500 out of 500 | elapsed:    0.7s finished\n",
      "[Parallel(n_jobs=5)]: Using backend ThreadingBackend with 5 concurrent workers.\n",
      "[Parallel(n_jobs=5)]: Done  40 tasks      | elapsed:    0.0s\n"
     ]
    },
    {
     "name": "stdout",
     "output_type": "stream",
     "text": [
      "Train Score:  0.9960806076792341\n"
     ]
    },
    {
     "name": "stderr",
     "output_type": "stream",
     "text": [
      "[Parallel(n_jobs=5)]: Done 190 tasks      | elapsed:    0.1s\n",
      "[Parallel(n_jobs=5)]: Done 440 tasks      | elapsed:    0.3s\n"
     ]
    },
    {
     "name": "stdout",
     "output_type": "stream",
     "text": [
      "Test Score:  0.9173747673383508\n"
     ]
    },
    {
     "name": "stderr",
     "output_type": "stream",
     "text": [
      "[Parallel(n_jobs=5)]: Done 500 out of 500 | elapsed:    0.3s finished\n"
     ]
    }
   ],
   "source": [
    "#Building Random forest regression model\n",
    "from sklearn.ensemble import RandomForestClassifier\n",
    "rfc = RandomForestClassifier(n_estimators=500, \n",
    "                             min_samples_split=4,\n",
    "                             max_depth=40,\n",
    "                             criterion='entropy',\n",
    "                             random_state=0, \n",
    "                             n_jobs=-4, verbose =1)\n",
    "rfc.fit(X_train, y_train)\n",
    "#Train data\n",
    "print(\"Train Score: \",rfc.score(X_train,y_train))\n",
    "print(\"Test Score: \",rfc.score(X_test,y_test))"
   ]
  },
  {
   "cell_type": "code",
   "execution_count": 18,
   "id": "00b667c7",
   "metadata": {},
   "outputs": [
    {
     "name": "stderr",
     "output_type": "stream",
     "text": [
      "[Parallel(n_jobs=-4)]: Using backend ThreadingBackend with 5 concurrent workers.\n",
      "[Parallel(n_jobs=-4)]: Done  40 tasks      | elapsed:    1.1s\n",
      "[Parallel(n_jobs=-4)]: Done 190 tasks      | elapsed:    5.5s\n",
      "[Parallel(n_jobs=-4)]: Done 440 tasks      | elapsed:   12.8s\n",
      "[Parallel(n_jobs=-4)]: Done 500 out of 500 | elapsed:   14.6s finished\n"
     ]
    },
    {
     "name": "stdout",
     "output_type": "stream",
     "text": [
      "5\n",
      "Index(['age', 'duration', 'cons.conf.idx', 'euribor3m', 'nr.employed'], dtype='object')\n"
     ]
    }
   ],
   "source": [
    "from sklearn.feature_selection import SelectFromModel\n",
    "sel = SelectFromModel(RandomForestClassifier(n_estimators=500, \n",
    "                             min_samples_split=4,\n",
    "                             max_features=23,\n",
    "                             max_depth=40,\n",
    "                             criterion='entropy',\n",
    "                             random_state=0, \n",
    "                             n_jobs=-4, verbose =1))\n",
    "sel.fit(X_train, y_train)\n",
    "sel.get_support()\n",
    "selected_feat= X_train.columns[(sel.get_support())]\n",
    "print(len(selected_feat))\n",
    "print(selected_feat)"
   ]
  },
  {
   "cell_type": "code",
   "execution_count": 19,
   "id": "e4fa99d3",
   "metadata": {},
   "outputs": [],
   "source": [
    "df1=df[['age', 'duration', 'cons.conf.idx', 'euribor3m', 'nr.employed','y']]"
   ]
  },
  {
   "cell_type": "markdown",
   "id": "9b6cee64",
   "metadata": {},
   "source": [
    "### d) Handling unbalanced data using SMOTE"
   ]
  },
  {
   "cell_type": "code",
   "execution_count": 20,
   "id": "f2e94916",
   "metadata": {},
   "outputs": [
    {
     "data": {
      "text/plain": [
       "<AxesSubplot:xlabel='y', ylabel='count'>"
      ]
     },
     "execution_count": 20,
     "metadata": {},
     "output_type": "execute_result"
    },
    {
     "data": {
      "image/png": "[encoded data removed]",
      "text/plain": [
       "<Figure size 432x288 with 1 Axes>"
      ]
     },
     "metadata": {
      "needs_background": "light"
     },
     "output_type": "display_data"
    }
   ],
   "source": [
    "#Before applying SMOTE\n",
    "sns.countplot(x=df1.y)"
   ]
  },
  {
   "cell_type": "code",
   "execution_count": 21,
   "id": "b0ef1e28",
   "metadata": {},
   "outputs": [],
   "source": [
    "X=df1.drop(\"y\",axis=1)\n",
    "y=df1[\"y\"]"
   ]
  },
  {
   "cell_type": "code",
   "execution_count": 22,
   "id": "e3862e6d",
   "metadata": {},
   "outputs": [],
   "source": [
    "from imblearn.over_sampling import SMOTE\n",
    "sm = SMOTE(random_state=2)\n",
    "X, y = sm.fit_resample(X, y.ravel())"
   ]
  },
  {
   "cell_type": "code",
   "execution_count": 23,
   "id": "7f528e93",
   "metadata": {},
   "outputs": [
    {
     "data": {
      "text/plain": [
       "<AxesSubplot:ylabel='count'>"
      ]
     },
     "execution_count": 23,
     "metadata": {},
     "output_type": "execute_result"
    },
    {
     "data": {
      "image/png": "[encoded data removed]",
      "text/plain": [
       "<Figure size 432x288 with 1 Axes>"
      ]
     },
     "metadata": {
      "needs_background": "light"
     },
     "output_type": "display_data"
    }
   ],
   "source": [
    "#After applying SMOTE\n",
    "sns.countplot(x=y)"
   ]
  },
  {
   "cell_type": "markdown",
   "id": "a7723b9f",
   "metadata": {},
   "source": [
    "From the above graph , it it clearly showing that the data is perfectly balanced"
   ]
  },
  {
   "cell_type": "markdown",
   "id": "0952d467",
   "metadata": {},
   "source": [
    "### e) Standardizing the data"
   ]
  },
  {
   "cell_type": "code",
   "execution_count": 24,
   "id": "60475188",
   "metadata": {},
   "outputs": [],
   "source": [
    "X_train, X_test, Y_train, Y_test = train_test_split(X, y, test_size=0.3, random_state=0)"
   ]
  },
  {
   "cell_type": "code",
   "execution_count": 25,
   "id": "2621c00f",
   "metadata": {},
   "outputs": [],
   "source": [
    "#Scaling the dataset \n",
    "from sklearn.preprocessing import StandardScaler\n",
    "st_x= StandardScaler()\n",
    "X_train= st_x.fit_transform(X_train)    \n",
    "X_test= st_x.transform(X_test)"
   ]
  },
  {
   "cell_type": "markdown",
   "id": "45aeb543",
   "metadata": {},
   "source": [
    "## Q3. Building several Supervised Learning models"
   ]
  },
  {
   "cell_type": "markdown",
   "id": "be74589b",
   "metadata": {},
   "source": [
    "#### a) Logistic Regression"
   ]
  },
  {
   "cell_type": "code",
   "execution_count": 26,
   "id": "a49bc7ad",
   "metadata": {},
   "outputs": [
    {
     "name": "stdout",
     "output_type": "stream",
     "text": [
      "Train Score:  0.8413039654464792\n",
      "Test Score:  0.8401203885266086\n"
     ]
    }
   ],
   "source": [
    "#Fitting the data with model\n",
    "model=LogisticRegression(solver='lbfgs')\n",
    "model.fit(X_train,Y_train)\n",
    "print(\"Train Score: \",model.score(X_train,Y_train))\n",
    "print(\"Test Score: \",model.score(X_test,Y_test))"
   ]
  },
  {
   "cell_type": "code",
   "execution_count": 27,
   "id": "c4e94336",
   "metadata": {
    "scrolled": true
   },
   "outputs": [
    {
     "data": {
      "text/plain": [
       "<AxesSubplot:>"
      ]
     },
     "execution_count": 27,
     "metadata": {},
     "output_type": "execute_result"
    },
    {
     "data": {
      "image/png": "[encoded data removed]",
      "text/plain": [
       "<Figure size 504x360 with 2 Axes>"
      ]
     },
     "metadata": {
      "needs_background": "light"
     },
     "output_type": "display_data"
    }
   ],
   "source": [
    "predictions=model.predict(X_test)\n",
    "cm=metrics.confusion_matrix(Y_test,predictions)\n",
    "\n",
    "df_cm = pd.DataFrame(cm, index = [i for i in [\"yes\",\"no\"]],\n",
    "                  columns = [i for i in [\"Predict 1\",\"Predict 0\"]])\n",
    "plt.figure(figsize = (7,5))\n",
    "sns.heatmap(df_cm,annot=True,fmt='g')"
   ]
  },
  {
   "cell_type": "code",
   "execution_count": 30,
   "id": "ce7b7401",
   "metadata": {},
   "outputs": [],
   "source": [
    "fp_lr= cm[0][1]\n",
    "accuracy_lr = accuracy_score(Y_test,predictions)"
   ]
  },
  {
   "cell_type": "code",
   "execution_count": 31,
   "id": "77574226",
   "metadata": {},
   "outputs": [
    {
     "name": "stdout",
     "output_type": "stream",
     "text": [
      "              precision    recall  f1-score   support\n",
      "\n",
      "           0       0.84      0.84      0.84     10857\n",
      "           1       0.84      0.84      0.84     11072\n",
      "\n",
      "    accuracy                           0.84     21929\n",
      "   macro avg       0.84      0.84      0.84     21929\n",
      "weighted avg       0.84      0.84      0.84     21929\n",
      "\n"
     ]
    }
   ],
   "source": [
    "print(metrics.classification_report(Y_test, predictions))"
   ]
  },
  {
   "cell_type": "markdown",
   "id": "f491739c",
   "metadata": {},
   "source": [
    "#### b) Ada Boost"
   ]
  },
  {
   "cell_type": "code",
   "execution_count": 32,
   "id": "6a125945",
   "metadata": {},
   "outputs": [
    {
     "name": "stdout",
     "output_type": "stream",
     "text": [
      "Train Score:  0.8873492680829441\n",
      "Test Score:  0.8842628482830954\n"
     ]
    }
   ],
   "source": [
    "from sklearn.ensemble import AdaBoostClassifier\n",
    "abc = AdaBoostClassifier()\n",
    "abc.fit(X_train,Y_train)\n",
    "print(\"Train Score: \",abc.score(X_train,Y_train))\n",
    "print(\"Test Score: \",abc.score(X_test,Y_test))"
   ]
  },
  {
   "cell_type": "code",
   "execution_count": 33,
   "id": "b10bbcbe",
   "metadata": {},
   "outputs": [
    {
     "data": {
      "text/plain": [
       "<AxesSubplot:>"
      ]
     },
     "execution_count": 33,
     "metadata": {},
     "output_type": "execute_result"
    },
    {
     "data": {
      "image/png": "[encoded data removed]",
      "text/plain": [
       "<Figure size 504x360 with 2 Axes>"
      ]
     },
     "metadata": {
      "needs_background": "light"
     },
     "output_type": "display_data"
    }
   ],
   "source": [
    "predictions=abc.predict(X_test)\n",
    "cm=metrics.confusion_matrix(Y_test,predictions)\n",
    "\n",
    "df_cm = pd.DataFrame(cm, index = [i for i in [\"yes\",\"no\"]],\n",
    "                  columns = [i for i in [\"Predict 1\",\"Predict 0\"]])\n",
    "plt.figure(figsize = (7,5))\n",
    "sns.heatmap(df_cm,annot=True,fmt='g')"
   ]
  },
  {
   "cell_type": "code",
   "execution_count": 34,
   "id": "fba4f9b8",
   "metadata": {},
   "outputs": [],
   "source": [
    "fp_abc= cm[0][1]\n",
    "accuracy_abc = accuracy_score(Y_test,predictions)"
   ]
  },
  {
   "cell_type": "code",
   "execution_count": 35,
   "id": "ba042e4f",
   "metadata": {},
   "outputs": [
    {
     "name": "stdout",
     "output_type": "stream",
     "text": [
      "              precision    recall  f1-score   support\n",
      "\n",
      "           0       0.90      0.87      0.88     10857\n",
      "           1       0.87      0.90      0.89     11072\n",
      "\n",
      "    accuracy                           0.88     21929\n",
      "   macro avg       0.88      0.88      0.88     21929\n",
      "weighted avg       0.88      0.88      0.88     21929\n",
      "\n"
     ]
    }
   ],
   "source": [
    "print(metrics.classification_report(Y_test, predictions))"
   ]
  },
  {
   "cell_type": "markdown",
   "id": "a09627d6",
   "metadata": {},
   "source": [
    "#### C) Naive Bayes"
   ]
  },
  {
   "cell_type": "code",
   "execution_count": 36,
   "id": "9b361e88",
   "metadata": {},
   "outputs": [
    {
     "name": "stdout",
     "output_type": "stream",
     "text": [
      "Train Score:  0.8413039654464792\n",
      "Test Score:  0.8401203885266086\n"
     ]
    }
   ],
   "source": [
    "from sklearn.naive_bayes import GaussianNB\n",
    "nb = GaussianNB()\n",
    "nb.fit(X_train,Y_train)\n",
    "print(\"Train Score: \",model.score(X_train,Y_train))\n",
    "print(\"Test Score: \",model.score(X_test,Y_test))"
   ]
  },
  {
   "cell_type": "code",
   "execution_count": 37,
   "id": "74d91719",
   "metadata": {},
   "outputs": [
    {
     "data": {
      "text/plain": [
       "<AxesSubplot:>"
      ]
     },
     "execution_count": 37,
     "metadata": {},
     "output_type": "execute_result"
    },
    {
     "data": {
      "image/png": "[encoded data removed]",
      "text/plain": [
       "<Figure size 504x360 with 2 Axes>"
      ]
     },
     "metadata": {
      "needs_background": "light"
     },
     "output_type": "display_data"
    }
   ],
   "source": [
    "predictions=nb.predict(X_test)\n",
    "cm=metrics.confusion_matrix(Y_test,predictions)\n",
    "\n",
    "df_cm = pd.DataFrame(cm, index = [i for i in [\"yes\",\"no\"]],\n",
    "                  columns = [i for i in [\"Predict 1\",\"Predict 0\"]])\n",
    "plt.figure(figsize = (7,5))\n",
    "sns.heatmap(df_cm,annot=True,fmt='g')"
   ]
  },
  {
   "cell_type": "code",
   "execution_count": 38,
   "id": "2568362f",
   "metadata": {},
   "outputs": [],
   "source": [
    "fp_nb= cm[0][1]\n",
    "accuracy_nb= accuracy_score(Y_test,predictions)"
   ]
  },
  {
   "cell_type": "code",
   "execution_count": 39,
   "id": "f08b37c1",
   "metadata": {},
   "outputs": [
    {
     "name": "stdout",
     "output_type": "stream",
     "text": [
      "              precision    recall  f1-score   support\n",
      "\n",
      "           0       0.84      0.72      0.78     10857\n",
      "           1       0.76      0.87      0.81     11072\n",
      "\n",
      "    accuracy                           0.79     21929\n",
      "   macro avg       0.80      0.79      0.79     21929\n",
      "weighted avg       0.80      0.79      0.79     21929\n",
      "\n"
     ]
    }
   ],
   "source": [
    "print(metrics.classification_report(Y_test, predictions))"
   ]
  },
  {
   "cell_type": "markdown",
   "id": "957ef564",
   "metadata": {},
   "source": [
    "#### d) KNN"
   ]
  },
  {
   "cell_type": "code",
   "execution_count": 40,
   "id": "2c03b5de",
   "metadata": {},
   "outputs": [
    {
     "name": "stdout",
     "output_type": "stream",
     "text": [
      "Train Score:  0.9040397130963316\n",
      "Test Score:  0.8954352683660906\n"
     ]
    }
   ],
   "source": [
    "from sklearn.neighbors import KNeighborsClassifier\n",
    "\n",
    "knn = KNeighborsClassifier(n_neighbors=17,\n",
    "    p=2)\n",
    "knn.fit(X_train, Y_train)\n",
    " \n",
    "print(\"Train Score: \",knn.score(X_train,Y_train))\n",
    "print(\"Test Score: \",knn.score(X_test,Y_test))"
   ]
  },
  {
   "cell_type": "code",
   "execution_count": 41,
   "id": "17d08185",
   "metadata": {},
   "outputs": [
    {
     "data": {
      "text/plain": [
       "<AxesSubplot:>"
      ]
     },
     "execution_count": 41,
     "metadata": {},
     "output_type": "execute_result"
    },
    {
     "data": {
      "image/png": "[encoded data removed]",
      "text/plain": [
       "<Figure size 504x360 with 2 Axes>"
      ]
     },
     "metadata": {
      "needs_background": "light"
     },
     "output_type": "display_data"
    }
   ],
   "source": [
    "predictions=knn.predict(X_test)\n",
    "cm=metrics.confusion_matrix(Y_test,predictions)\n",
    "\n",
    "df_cm = pd.DataFrame(cm, index = [i for i in [\"yes\",\"no\"]],\n",
    "                  columns = [i for i in [\"Predict 1\",\"Predict 0\"]])\n",
    "plt.figure(figsize = (7,5))\n",
    "sns.heatmap(df_cm,annot=True,fmt='g')"
   ]
  },
  {
   "cell_type": "code",
   "execution_count": 42,
   "id": "dc06c5c7",
   "metadata": {},
   "outputs": [],
   "source": [
    "fp_knn= cm[0][1]\n",
    "accuracy_knn= accuracy_score(Y_test,predictions)"
   ]
  },
  {
   "cell_type": "code",
   "execution_count": 43,
   "id": "f88f8ee5",
   "metadata": {},
   "outputs": [
    {
     "name": "stdout",
     "output_type": "stream",
     "text": [
      "              precision    recall  f1-score   support\n",
      "\n",
      "           0       0.93      0.85      0.89     10857\n",
      "           1       0.87      0.94      0.90     11072\n",
      "\n",
      "    accuracy                           0.90     21929\n",
      "   macro avg       0.90      0.90      0.90     21929\n",
      "weighted avg       0.90      0.90      0.90     21929\n",
      "\n"
     ]
    }
   ],
   "source": [
    "print(metrics.classification_report(Y_test, predictions))"
   ]
  },
  {
   "cell_type": "markdown",
   "id": "3f492247",
   "metadata": {},
   "source": [
    "#### e) SVM"
   ]
  },
  {
   "cell_type": "code",
   "execution_count": 44,
   "id": "db301cb7",
   "metadata": {},
   "outputs": [
    {
     "name": "stdout",
     "output_type": "stream",
     "text": [
      "Train Score:  0.8456231555494752\n",
      "Test Score:  0.8434037119795704\n"
     ]
    }
   ],
   "source": [
    "from sklearn.svm import SVC # \"Support vector classifier\"\n",
    "svcc = SVC(kernel = 'linear', C = 3)\n",
    "svcc.fit(X_train,Y_train)\n",
    "print(\"Train Score: \",svcc.score(X_train,Y_train))\n",
    "print(\"Test Score: \",svcc.score(X_test,Y_test))"
   ]
  },
  {
   "cell_type": "code",
   "execution_count": 45,
   "id": "7a342764",
   "metadata": {},
   "outputs": [
    {
     "data": {
      "text/plain": [
       "<AxesSubplot:>"
      ]
     },
     "execution_count": 45,
     "metadata": {},
     "output_type": "execute_result"
    },
    {
     "data": {
      "image/png": "[encoded data removed]",
      "text/plain": [
       "<Figure size 504x360 with 2 Axes>"
      ]
     },
     "metadata": {
      "needs_background": "light"
     },
     "output_type": "display_data"
    }
   ],
   "source": [
    "predictions=svcc.predict(X_test)\n",
    "cm=metrics.confusion_matrix(Y_test,predictions)\n",
    "\n",
    "df_cm = pd.DataFrame(cm, index = [i for i in [\"yes\",\"no\"]],\n",
    "                  columns = [i for i in [\"Predict 1\",\"Predict 0\"]])\n",
    "plt.figure(figsize = (7,5))\n",
    "sns.heatmap(df_cm,annot=True,fmt='g')"
   ]
  },
  {
   "cell_type": "code",
   "execution_count": 46,
   "id": "7ab9d2db",
   "metadata": {},
   "outputs": [],
   "source": [
    "fp_svm= cm[0][1]\n",
    "accuracy_svm= accuracy_score(Y_test,predictions)"
   ]
  },
  {
   "cell_type": "code",
   "execution_count": 47,
   "id": "7aff9aab",
   "metadata": {},
   "outputs": [
    {
     "name": "stdout",
     "output_type": "stream",
     "text": [
      "              precision    recall  f1-score   support\n",
      "\n",
      "           0       0.85      0.83      0.84     10857\n",
      "           1       0.84      0.85      0.85     11072\n",
      "\n",
      "    accuracy                           0.84     21929\n",
      "   macro avg       0.84      0.84      0.84     21929\n",
      "weighted avg       0.84      0.84      0.84     21929\n",
      "\n"
     ]
    }
   ],
   "source": [
    "print(metrics.classification_report(Y_test, predictions))"
   ]
  },
  {
   "cell_type": "markdown",
   "id": "65e90b6d",
   "metadata": {},
   "source": [
    "## Q4. Model Inference"
   ]
  },
  {
   "cell_type": "code",
   "execution_count": 51,
   "id": "9b857489",
   "metadata": {},
   "outputs": [
    {
     "data": {
      "text/html": [
       "<div>\n",
       "<style scoped>\n",
       "    .dataframe tbody tr th:only-of-type {\n",
       "        vertical-align: middle;\n",
       "    }\n",
       "\n",
       "    .dataframe tbody tr th {\n",
       "        vertical-align: top;\n",
       "    }\n",
       "\n",
       "    .dataframe thead th {\n",
       "        text-align: right;\n",
       "    }\n",
       "</style>\n",
       "<table border=\"1\" class=\"dataframe\">\n",
       "  <thead>\n",
       "    <tr style=\"text-align: right;\">\n",
       "      <th></th>\n",
       "      <th>Model</th>\n",
       "      <th>FP</th>\n",
       "      <th>Accuracy</th>\n",
       "    </tr>\n",
       "  </thead>\n",
       "  <tbody>\n",
       "    <tr>\n",
       "      <th>0</th>\n",
       "      <td>Logistic Regression</td>\n",
       "      <td>1753</td>\n",
       "      <td>0.840120</td>\n",
       "    </tr>\n",
       "    <tr>\n",
       "      <th>1</th>\n",
       "      <td>AdaBoost</td>\n",
       "      <td>1442</td>\n",
       "      <td>0.884263</td>\n",
       "    </tr>\n",
       "    <tr>\n",
       "      <th>2</th>\n",
       "      <td>Naive bayes</td>\n",
       "      <td>3037</td>\n",
       "      <td>0.793515</td>\n",
       "    </tr>\n",
       "    <tr>\n",
       "      <th>3</th>\n",
       "      <td>KNN</td>\n",
       "      <td>1599</td>\n",
       "      <td>0.895435</td>\n",
       "    </tr>\n",
       "    <tr>\n",
       "      <th>4</th>\n",
       "      <td>SVM</td>\n",
       "      <td>1826</td>\n",
       "      <td>0.843404</td>\n",
       "    </tr>\n",
       "  </tbody>\n",
       "</table>\n",
       "</div>"
      ],
      "text/plain": [
       "                 Model    FP  Accuracy\n",
       "0  Logistic Regression  1753  0.840120\n",
       "1             AdaBoost  1442  0.884263\n",
       "2          Naive bayes  3037  0.793515\n",
       "3                  KNN  1599  0.895435\n",
       "4                  SVM  1826  0.843404"
      ]
     },
     "execution_count": 51,
     "metadata": {},
     "output_type": "execute_result"
    }
   ],
   "source": [
    "inf=[['Logistic Regression',fp_lr,accuracy_lr],\n",
    "   ['AdaBoost',fp_abc,accuracy_abc],\n",
    "   ['Naive bayes',fp_nb,accuracy_nb],\n",
    "   ['KNN',fp_knn,accuracy_knn],\n",
    "   ['SVM',fp_svm,accuracy_svm]]\n",
    "inf = pd.DataFrame(inf, columns = ['Model','FP','Accuracy'])\n",
    "inf"
   ]
  },
  {
   "cell_type": "markdown",
   "id": "37f71e5c",
   "metadata": {},
   "source": [
    "From the above table, SVM and ADA Boosting classifier has the highest accuracy and low False Positive count than other models.\n",
    "\n"
   ]
  }
 ],
 "metadata": {
  "kernelspec": {
   "display_name": "Python 3",
   "language": "python",
   "name": "python3"
  }
 },
 "nbformat": 4,
 "nbformat_minor": 5
}
